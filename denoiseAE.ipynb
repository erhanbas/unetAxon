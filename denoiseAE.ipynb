{
 "cells": [
  {
   "cell_type": "code",
   "execution_count": 21,
   "metadata": {},
   "outputs": [
    {
     "name": "stdout",
     "output_type": "stream",
     "text": [
      "Extracting /tmp/data/train-images-idx3-ubyte.gz\n",
      "Extracting /tmp/data/train-labels-idx1-ubyte.gz\n",
      "Extracting /tmp/data/t10k-images-idx3-ubyte.gz\n",
      "Extracting /tmp/data/t10k-labels-idx1-ubyte.gz\n"
     ]
    }
   ],
   "source": [
    "\"\"\" Autoencoder denoising:\n",
    "    2 layer auto-encoder \n",
    "    References:\n",
    "        Y. LeCun, L. Bottou, Y. Bengio, and P. Haffner. \"Gradient-based\n",
    "        learning applied to document recognition.\" Proceedings of the IEEE,\n",
    "        86(11):2278-2324, November 1998.\n",
    "    Links:\n",
    "        [MNIST Dataset] http://yann.lecun.com/exdb/mnist/\n",
    "\"\"\"\n",
    "# %set_env LD_LIBRARY_PATH=/usr/local/cuda/lib64:/groups/mousebrainmicro/home/base/Apps/pycharm-community-2017.2/bin:/usr/lib:/usr/local/cuda/lib64:/usr/local/matlab-2017a/bin/glnxa64:/usr/local/matlab-2017a/runtime/glnxa64:/usr/local/matlab-2017a/sys/os/glnxa64:/usr/local/matlab-2017a/sys/java/jre/glnxa64/jre/lib/amd64/native_threads:/usr/local/matlab-2017a/sys/java/jre/glnxa64/jre/lib/amd64/server:/usr/local/matlab-2017a/sys/java/jre/glnxa64/jre/lib/amd64:/groups/mousebrainmicro/home/base/gurobi800/linux64/lib\n",
    "# %env LD_LIBRARY_PATH\n",
    "\n",
    "from __future__ import division, print_function, absolute_import\n",
    "\n",
    "import tensorflow as tf\n",
    "import numpy as np\n",
    "import matplotlib.pyplot as plt\n",
    "\n",
    "# Import MNIST data\n",
    "from tensorflow.examples.tutorials.mnist import input_data\n",
    "mnist = input_data.read_data_sets(\"/tmp/data/\", one_hot=True) \n"
   ]
  },
  {
   "cell_type": "code",
   "execution_count": 23,
   "metadata": {},
   "outputs": [],
   "source": [
    "# decoder/encoder scheme\n",
    "def encoder(x):\n",
    "    # sigmoid(W'*X+b) => X(Nxd) * W(dxL1) + b(L1x1)\n",
    "    layer1 = tf.nn.sigmoid(tf.add(tf.matmul(x,weights['encoder_h1']),biases['encoder_h1']))\n",
    "    layer2 = tf.nn.sigmoid(tf.add(tf.matmul(layer1,weights['encoder_h2']),biases['encoder_h2']))\n",
    "    return layer2\n",
    "\n",
    "def decoder(x):\n",
    "    # sigmoid(W'*X+b) => X(Nxd) * W(dxL1) + b(L1x1)\n",
    "    layer1 = tf.nn.sigmoid(tf.add(tf.matmul(x,weights['decoder_h1']),biases['decoder_h1']))\n",
    "    layer2 = tf.nn.sigmoid(tf.add(tf.matmul(layer1,weights['decoder_h2']),biases['decoder_h2']))\n",
    "    return layer2\n"
   ]
  },
  {
   "cell_type": "code",
   "execution_count": 24,
   "metadata": {},
   "outputs": [],
   "source": [
    "# Training Parameters\n",
    "learning_rate = 0.01\n",
    "num_steps = 30000\n",
    "batch_size = 256\n",
    "\n",
    "display_step = 1000\n",
    "examples_to_show = 10\n",
    "\n",
    "# Network Parameters\n",
    "num_hidden_1 = 256 # 1st layer num features\n",
    "num_hidden_2 = 128 # 2nd layer num features (the latent dim)\n",
    "num_input = 784 # MNIST data input (img shape: 28*28)"
   ]
  },
  {
   "cell_type": "code",
   "execution_count": 19,
   "metadata": {},
   "outputs": [],
   "source": [
    "# define variables\n",
    "X = tf.placeholder(\"float\",[None,num_input])\n",
    "\n",
    "weights = {\n",
    "    'encoder_h1': tf.Variable(tf.random_normal([num_input,num_hidden_1])),\n",
    "    'encoder_h2': tf.Variable(tf.random_normal([num_hidden_1,num_hidden_2])),\n",
    "    'decoder_h1': tf.Variable(tf.random_normal([num_hidden_2,num_hidden_1])),\n",
    "    'decoder_h2': tf.Variable(tf.random_normal([num_hidden_1,num_input])),\n",
    "}\n",
    "biases = {\n",
    "    'encoder_h1': tf.Variable(tf.random_normal([num_hidden_1])),\n",
    "    'encoder_h2': tf.Variable(tf.random_normal([num_hidden_2])),\n",
    "    'decoder_h1': tf.Variable(tf.random_normal([num_hidden_1])),\n",
    "    'decoder_h2': tf.Variable(tf.random_normal([num_input])),\n",
    "}"
   ]
  },
  {
   "cell_type": "code",
   "execution_count": 30,
   "metadata": {},
   "outputs": [],
   "source": [
    "encoder_ = encoder(X)\n",
    "decoder_ = decoder(encoder_)\n",
    "# prediction\n",
    "y_pred = decoder_\n",
    "y_true = X # denoising/reconstruction"
   ]
  },
  {
   "cell_type": "code",
   "execution_count": 42,
   "metadata": {},
   "outputs": [],
   "source": [
    "# loss functions\n",
    "loss = tf.reduce_mean(tf.pow(y_pred-y_true,2))\n",
    "optimizer = tf.train.RMSPropOptimizer(learning_rate).minimize(loss)"
   ]
  },
  {
   "cell_type": "code",
   "execution_count": 47,
   "metadata": {},
   "outputs": [],
   "source": [
    "init = tf.global_variables_initializer()\n"
   ]
  },
  {
   "cell_type": "code",
   "execution_count": 62,
   "metadata": {},
   "outputs": [
    {
     "data": {
      "text/plain": [
       "30000"
      ]
     },
     "execution_count": 62,
     "metadata": {},
     "output_type": "execute_result"
    }
   ],
   "source": [
    "num_steps"
   ]
  },
  {
   "cell_type": "code",
   "execution_count": 63,
   "metadata": {},
   "outputs": [
    {
     "name": "stdout",
     "output_type": "stream",
     "text": [
      "Step 1: Minibatch Loss: 0.449445\n",
      "Step 1000: Minibatch Loss: 0.155854\n",
      "Step 2000: Minibatch Loss: 0.125688\n",
      "Step 3000: Minibatch Loss: 0.120219\n",
      "Step 4000: Minibatch Loss: 0.108177\n",
      "Step 5000: Minibatch Loss: 0.107439\n",
      "Step 6000: Minibatch Loss: 0.103112\n",
      "Step 7000: Minibatch Loss: 0.101939\n",
      "Step 8000: Minibatch Loss: 0.099804\n",
      "Step 9000: Minibatch Loss: 0.094813\n",
      "Step 10000: Minibatch Loss: 0.092460\n",
      "Step 11000: Minibatch Loss: 0.091476\n",
      "Step 12000: Minibatch Loss: 0.091089\n",
      "Step 13000: Minibatch Loss: 0.085756\n",
      "Step 14000: Minibatch Loss: 0.082946\n",
      "Step 15000: Minibatch Loss: 0.081084\n",
      "Step 16000: Minibatch Loss: 0.080361\n",
      "Step 17000: Minibatch Loss: 0.079076\n",
      "Step 18000: Minibatch Loss: 0.077018\n",
      "Step 19000: Minibatch Loss: 0.075447\n",
      "Step 20000: Minibatch Loss: 0.071030\n",
      "Step 21000: Minibatch Loss: 0.067842\n",
      "Step 22000: Minibatch Loss: 0.067552\n",
      "Step 23000: Minibatch Loss: 0.067245\n",
      "Step 24000: Minibatch Loss: 0.064142\n",
      "Step 25000: Minibatch Loss: 0.065594\n",
      "Step 26000: Minibatch Loss: 0.064194\n",
      "Step 27000: Minibatch Loss: 0.064896\n",
      "Step 28000: Minibatch Loss: 0.061798\n",
      "Step 29000: Minibatch Loss: 0.062600\n",
      "Step 30000: Minibatch Loss: 0.060432\n",
      "Step 31000: Minibatch Loss: 0.057405\n",
      "Step 32000: Minibatch Loss: 0.057185\n",
      "Step 33000: Minibatch Loss: 0.056382\n",
      "Step 34000: Minibatch Loss: 0.055521\n",
      "Step 35000: Minibatch Loss: 0.055470\n",
      "Step 36000: Minibatch Loss: 0.052502\n",
      "Step 37000: Minibatch Loss: 0.053341\n",
      "Step 38000: Minibatch Loss: 0.053219\n",
      "Step 39000: Minibatch Loss: 0.051033\n",
      "Step 40000: Minibatch Loss: 0.051285\n",
      "Step 41000: Minibatch Loss: 0.049306\n",
      "Step 42000: Minibatch Loss: 0.049403\n",
      "Step 43000: Minibatch Loss: 0.049438\n",
      "Step 44000: Minibatch Loss: 0.047972\n",
      "Step 45000: Minibatch Loss: 0.047661\n",
      "Step 46000: Minibatch Loss: 0.046294\n",
      "Step 47000: Minibatch Loss: 0.045874\n",
      "Step 48000: Minibatch Loss: 0.042596\n",
      "Step 49000: Minibatch Loss: 0.042368\n",
      "Step 50000: Minibatch Loss: 0.041235\n",
      "Step 51000: Minibatch Loss: 0.041126\n",
      "Step 52000: Minibatch Loss: 0.041089\n",
      "Step 53000: Minibatch Loss: 0.040628\n",
      "Step 54000: Minibatch Loss: 0.040017\n",
      "Step 55000: Minibatch Loss: 0.039187\n",
      "Step 56000: Minibatch Loss: 0.039203\n",
      "Step 57000: Minibatch Loss: 0.038470\n",
      "Step 58000: Minibatch Loss: 0.038606\n",
      "Step 59000: Minibatch Loss: 0.036523\n",
      "Step 60000: Minibatch Loss: 0.037707\n"
     ]
    }
   ],
   "source": [
    "# Start Training\n",
    "# Start a new TF session\n",
    "# with tf.Session() as sess:\n",
    "sess = tf.Session()\n",
    "\n",
    "# Run the initializer\n",
    "sess.run(init)\n",
    "\n",
    "# Training\n",
    "for i in range(1, 60000+1):\n",
    "    # Prepare Data\n",
    "    # Get the next batch of MNIST data (only images are needed, not labels)\n",
    "    batch_x, _ = mnist.train.next_batch(batch_size)\n",
    "\n",
    "    # Run optimization op (backprop) and cost op (to get loss value)\n",
    "    _, l = sess.run([optimizer, loss], feed_dict={X: batch_x})\n",
    "    # Display logs per step\n",
    "    if i % display_step == 0 or i == 1:\n",
    "        print('Step %i: Minibatch Loss: %f' % (i, l))"
   ]
  },
  {
   "cell_type": "code",
   "execution_count": 57,
   "metadata": {},
   "outputs": [],
   "source": [
    "# Testing\n",
    "# Encode and decode images from test set and visualize their reconstruction.\n",
    "n = 4\n",
    "canvas_orig = np.empty((28 * n, 28 * n))\n",
    "canvas_recon = np.empty((28 * n, 28 * n))\n",
    "for i in range(n):\n",
    "    # MNIST test set\n",
    "    batch_x, _ = mnist.test.next_batch(n)\n",
    "    # Encode and decode the digit image\n",
    "    g = sess.run(decoder_, feed_dict={X: batch_x})\n",
    "\n",
    "    # Display original images\n",
    "    for j in range(n):\n",
    "        # Draw the original digits\n",
    "        canvas_orig[i * 28:(i + 1) * 28, j * 28:(j + 1) * 28] = \\\n",
    "            batch_x[j].reshape([28, 28])\n",
    "    # Display reconstructed images\n",
    "    for j in range(n):\n",
    "        # Draw the reconstructed digits\n",
    "        canvas_recon[i * 28:(i + 1) * 28, j * 28:(j + 1) * 28] = \\\n",
    "            g[j].reshape([28, 28])            "
   ]
  },
  {
   "cell_type": "code",
   "execution_count": 59,
   "metadata": {},
   "outputs": [
    {
     "name": "stdout",
     "output_type": "stream",
     "text": [
      "Original Images\n"
     ]
    },
    {
     "data": {
      "image/png": "[encoded data removed]",
      "text/plain": [
       "<matplotlib.figure.Figure at 0x7f28447bfda0>"
      ]
     },
     "metadata": {},
     "output_type": "display_data"
    },
    {
     "name": "stdout",
     "output_type": "stream",
     "text": [
      "Reconstructed Images\n"
     ]
    },
    {
     "data": {
      "image/png": "[encoded data removed]",
      "text/plain": [
       "<matplotlib.figure.Figure at 0x7f283de98b70>"
      ]
     },
     "metadata": {},
     "output_type": "display_data"
    }
   ],
   "source": [
    "    print(\"Original Images\")\n",
    "    plt.figure(figsize=(n, n))\n",
    "    plt.imshow(canvas_orig, origin=\"upper\", cmap=\"gray\")\n",
    "    plt.show()\n",
    "\n",
    "    print(\"Reconstructed Images\")\n",
    "    plt.figure(figsize=(n, n))\n",
    "    plt.imshow(canvas_recon, origin=\"upper\", cmap=\"gray\")\n",
    "    plt.show()"
   ]
  },
  {
   "cell_type": "code",
   "execution_count": 50,
   "metadata": {},
   "outputs": [
    {
     "data": {
      "text/plain": [
       "12"
      ]
     },
     "execution_count": 50,
     "metadata": {},
     "output_type": "execute_result"
    }
   ],
   "source": [
    "12"
   ]
  },
  {
   "cell_type": "code",
   "execution_count": 39,
   "metadata": {},
   "outputs": [
    {
     "data": {
      "text/plain": [
       "True"
      ]
     },
     "execution_count": 39,
     "metadata": {},
     "output_type": "execute_result"
    }
   ],
   "source": []
  },
  {
   "cell_type": "code",
   "execution_count": null,
   "metadata": {},
   "outputs": [],
   "source": [
    "\n",
    "\n",
    "\n",
    "\n",
    "\n",
    "\n",
    "\n",
    "\n",
    "\n",
    "\n",
    "\n",
    "\n",
    "\n",
    "\n",
    "\n",
    "\n",
    "\n",
    "\n",
    "\n",
    "\n",
    "\n",
    "\n",
    "\n",
    "\n",
    "\n",
    "\n",
    "\n",
    "\n",
    "\n",
    "\n",
    "\n",
    "\n",
    "\n",
    "\n",
    "\n",
    "\n",
    "\n",
    "\n",
    "\n"
   ]
  },
  {
   "cell_type": "code",
   "execution_count": null,
   "metadata": {},
   "outputs": [],
   "source": []
  }
 ],
 "metadata": {
  "kernelspec": {
   "display_name": "Python 3",
   "language": "python",
   "name": "python3"
  },
  "language_info": {
   "codemirror_mode": {
    "name": "ipython",
    "version": 3
   },
   "file_extension": ".py",
   "mimetype": "text/x-python",
   "name": "python",
   "nbconvert_exporter": "python",
   "pygments_lexer": "ipython3",
   "version": "3.6.2"
  }
 },
 "nbformat": 4,
 "nbformat_minor": 2
}
