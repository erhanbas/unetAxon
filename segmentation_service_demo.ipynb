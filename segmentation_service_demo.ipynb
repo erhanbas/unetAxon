{
 "cells": [
  {
   "cell_type": "code",
   "execution_count": 2,
   "metadata": {},
   "outputs": [
    {
     "name": "stdout",
     "output_type": "stream",
     "text": [
      "HTTPConnectionPool(host='localhost', port=5200): Max retries exceeded with url: /segment/cxr (Caused by NewConnectionError('<urllib3.connection.HTTPConnection object at 0x1125f4fd0>: Failed to establish a new connection: [Errno 61] Connection refused',))\n"
     ]
    },
    {
     "ename": "SystemExit",
     "evalue": "1",
     "output_type": "error",
     "traceback": [
      "An exception has occurred, use %tb to see the full traceback.\n",
      "\u001b[0;31mSystemExit\u001b[0m\u001b[0;31m:\u001b[0m 1\n"
     ]
    },
    {
     "name": "stderr",
     "output_type": "stream",
     "text": [
      "/Users/base/anaconda3/lib/python3.6/site-packages/IPython/core/interactiveshell.py:2870: UserWarning: To exit: use 'exit', 'quit', or Ctrl-D.\n",
      "  warn(\"To exit: use 'exit', 'quit', or Ctrl-D.\", stacklevel=1)\n"
     ]
    }
   ],
   "source": [
    "import requests\n",
    "import base64\n",
    "import numpy as np\n",
    "import sys\n",
    "import matplotlib.cm as cm\n",
    "from io import BytesIO\n",
    "from PIL import Image\n",
    "from matplotlib.pyplot import imshow\n",
    "\n",
    "file_path = 'images/cxr_1.png'\n",
    "url = 'http://localhost:5200/segment/cxr'\n",
    "\n",
    "files = {'image': open(file_path,'rb')}\n",
    "\n",
    "try:\n",
    "    response = requests.post(url, files=files)\n",
    "except requests.exceptions.RequestException as err:  \n",
    "    print(err)\n",
    "    sys.exit(1)\n",
    "    \n",
    "base64_string = response.content\n",
    "print (base64_string)\n",
    "image = Image.open(BytesIO(base64.b64decode(base64_string)))\n",
    "image = np.asarray(image)\n",
    "imshow(image, cmap=cm.Greys_r, interpolation='none')\n"
   ]
  },
  {
   "cell_type": "code",
   "execution_count": null,
   "metadata": {},
   "outputs": [],
   "source": []
  }
 ],
 "metadata": {
  "kernelspec": {
   "display_name": "Python 3",
   "language": "python",
   "name": "python3"
  },
  "language_info": {
   "codemirror_mode": {
    "name": "ipython",
    "version": 3
   },
   "file_extension": ".py",
   "mimetype": "text/x-python",
   "name": "python",
   "nbconvert_exporter": "python",
   "pygments_lexer": "ipython3",
   "version": "3.6.3"
  }
 },
 "nbformat": 4,
 "nbformat_minor": 2
}
